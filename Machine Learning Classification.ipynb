{
 "cells": [
  {
   "cell_type": "code",
   "execution_count": 2,
   "id": "1d8ed96d-d843-457c-aa77-c58a2431437c",
   "metadata": {},
   "outputs": [
    {
     "data": {
      "text/html": [
       "<div>\n",
       "<style scoped>\n",
       "    .dataframe tbody tr th:only-of-type {\n",
       "        vertical-align: middle;\n",
       "    }\n",
       "\n",
       "    .dataframe tbody tr th {\n",
       "        vertical-align: top;\n",
       "    }\n",
       "\n",
       "    .dataframe thead th {\n",
       "        text-align: right;\n",
       "    }\n",
       "</style>\n",
       "<table border=\"1\" class=\"dataframe\">\n",
       "  <thead>\n",
       "    <tr style=\"text-align: right;\">\n",
       "      <th></th>\n",
       "      <th>kill</th>\n",
       "      <th>assist</th>\n",
       "      <th>death</th>\n",
       "      <th>turret</th>\n",
       "      <th>role</th>\n",
       "    </tr>\n",
       "  </thead>\n",
       "  <tbody>\n",
       "    <tr>\n",
       "      <th>0</th>\n",
       "      <td>10</td>\n",
       "      <td>2</td>\n",
       "      <td>3</td>\n",
       "      <td>2</td>\n",
       "      <td>penyerang</td>\n",
       "    </tr>\n",
       "    <tr>\n",
       "      <th>1</th>\n",
       "      <td>3</td>\n",
       "      <td>9</td>\n",
       "      <td>5</td>\n",
       "      <td>0</td>\n",
       "      <td>bertahan</td>\n",
       "    </tr>\n",
       "    <tr>\n",
       "      <th>2</th>\n",
       "      <td>8</td>\n",
       "      <td>4</td>\n",
       "      <td>2</td>\n",
       "      <td>1</td>\n",
       "      <td>penyerang</td>\n",
       "    </tr>\n",
       "    <tr>\n",
       "      <th>3</th>\n",
       "      <td>2</td>\n",
       "      <td>11</td>\n",
       "      <td>6</td>\n",
       "      <td>0</td>\n",
       "      <td>bertahan</td>\n",
       "    </tr>\n",
       "    <tr>\n",
       "      <th>4</th>\n",
       "      <td>12</td>\n",
       "      <td>3</td>\n",
       "      <td>2</td>\n",
       "      <td>3</td>\n",
       "      <td>penyerang</td>\n",
       "    </tr>\n",
       "    <tr>\n",
       "      <th>5</th>\n",
       "      <td>4</td>\n",
       "      <td>10</td>\n",
       "      <td>7</td>\n",
       "      <td>0</td>\n",
       "      <td>bertahan</td>\n",
       "    </tr>\n",
       "    <tr>\n",
       "      <th>6</th>\n",
       "      <td>9</td>\n",
       "      <td>5</td>\n",
       "      <td>2</td>\n",
       "      <td>2</td>\n",
       "      <td>penyerang</td>\n",
       "    </tr>\n",
       "    <tr>\n",
       "      <th>7</th>\n",
       "      <td>1</td>\n",
       "      <td>13</td>\n",
       "      <td>6</td>\n",
       "      <td>0</td>\n",
       "      <td>bertahan</td>\n",
       "    </tr>\n",
       "    <tr>\n",
       "      <th>8</th>\n",
       "      <td>11</td>\n",
       "      <td>4</td>\n",
       "      <td>3</td>\n",
       "      <td>2</td>\n",
       "      <td>penyerang</td>\n",
       "    </tr>\n",
       "    <tr>\n",
       "      <th>9</th>\n",
       "      <td>2</td>\n",
       "      <td>12</td>\n",
       "      <td>5</td>\n",
       "      <td>0</td>\n",
       "      <td>bertahan</td>\n",
       "    </tr>\n",
       "  </tbody>\n",
       "</table>\n",
       "</div>"
      ],
      "text/plain": [
       "   kill  assist  death  turret       role\n",
       "0    10       2      3       2  penyerang\n",
       "1     3       9      5       0   bertahan\n",
       "2     8       4      2       1  penyerang\n",
       "3     2      11      6       0   bertahan\n",
       "4    12       3      2       3  penyerang\n",
       "5     4      10      7       0   bertahan\n",
       "6     9       5      2       2  penyerang\n",
       "7     1      13      6       0   bertahan\n",
       "8    11       4      3       2  penyerang\n",
       "9     2      12      5       0   bertahan"
      ]
     },
     "execution_count": 2,
     "metadata": {},
     "output_type": "execute_result"
    }
   ],
   "source": [
    "import pandas as pd\n",
    "\n",
    "df = pd.read_csv(\"dataset.csv\")\n",
    "df"
   ]
  },
  {
   "cell_type": "code",
   "execution_count": 3,
   "id": "d9f72272-aefb-4b5f-85c4-352861633e45",
   "metadata": {},
   "outputs": [
    {
     "name": "stdout",
     "output_type": "stream",
     "text": [
      "<class 'pandas.core.frame.DataFrame'>\n",
      "RangeIndex: 10 entries, 0 to 9\n",
      "Data columns (total 5 columns):\n",
      " #   Column  Non-Null Count  Dtype \n",
      "---  ------  --------------  ----- \n",
      " 0   kill    10 non-null     int64 \n",
      " 1   assist  10 non-null     int64 \n",
      " 2   death   10 non-null     int64 \n",
      " 3   turret  10 non-null     int64 \n",
      " 4   role    10 non-null     object\n",
      "dtypes: int64(4), object(1)\n",
      "memory usage: 532.0+ bytes\n",
      "None\n",
      "\n",
      "            kill     assist      death     turret\n",
      "count  10.000000  10.000000  10.000000  10.000000\n",
      "mean    6.200000   7.300000   4.100000   1.000000\n",
      "std     4.211096   4.110961   1.911951   1.154701\n",
      "min     1.000000   2.000000   2.000000   0.000000\n",
      "25%     2.250000   4.000000   2.250000   0.000000\n",
      "50%     6.000000   7.000000   4.000000   0.500000\n",
      "75%     9.750000  10.750000   5.750000   2.000000\n",
      "max    12.000000  13.000000   7.000000   3.000000\n",
      "\n",
      "kill      0\n",
      "assist    0\n",
      "death     0\n",
      "turret    0\n",
      "role      0\n",
      "dtype: int64\n",
      "\n",
      "role\n",
      "penyerang    5\n",
      "bertahan     5\n",
      "Name: count, dtype: int64\n"
     ]
    }
   ],
   "source": [
    "# melihat struktur data (kolom, tipe, jumlah baris, memori)\n",
    "print(df.info())\n",
    "print()\n",
    "\n",
    "# melihat statistik ringkas untuk kolom numeric (min, max, mean, dll)\n",
    "print(df.describe())\n",
    "print()\n",
    "\n",
    "# mengecek apakah ada data yang kosong\n",
    "print(df.isnull().sum())    \n",
    "print()\n",
    "\n",
    "# mengecek jumlah data per role\n",
    "print(df['role'].value_counts())    "
   ]
  },
  {
   "cell_type": "code",
   "execution_count": 4,
   "id": "b8930f80-d84a-4cf8-a5b7-820c1638dd46",
   "metadata": {},
   "outputs": [
    {
     "data": {
      "image/png": "[encoded data removed]",
      "text/plain": [
       "<Figure size 600x500 with 1 Axes>"
      ]
     },
     "metadata": {},
     "output_type": "display_data"
    }
   ],
   "source": [
    "import matplotlib.pyplot as plt\n",
    "\n",
    "penyerang = df[df[\"role\"] == \"penyerang\"]\n",
    "bertahan = df[df[\"role\"] == \"bertahan\"]\n",
    "\n",
    "plt.figure(figsize=(6,5))\n",
    "\n",
    "plt.scatter(penyerang[\"kill\"], penyerang[\"assist\"], color=\"red\", s=100, alpha=0.7, label=\"penyerang\")\n",
    "plt.scatter(bertahan[\"kill\"], bertahan[\"assist\"], color=\"blue\", s=100, alpha=0.7, label=\"bertahan\")\n",
    "\n",
    "plt.xlabel(\"Kill\")\n",
    "plt.ylabel(\"Assist\")\n",
    "plt.title(\"MLBB Style Kill vs Assist\")\n",
    "plt.legend()\n",
    "plt.grid(True, linestyle=\"--\", alpha=0.5)\n",
    "plt.show()"
   ]
  },
  {
   "cell_type": "code",
   "execution_count": 5,
   "id": "a43e3413-1d85-427a-ad11-f4e049039cb3",
   "metadata": {},
   "outputs": [
    {
     "name": "stdout",
     "output_type": "stream",
     "text": [
      "Accuracy : 1.0\n"
     ]
    }
   ],
   "source": [
    "from sklearn.linear_model import LogisticRegression\n",
    "from sklearn.model_selection import train_test_split\n",
    "from sklearn.metrics import accuracy_score\n",
    "\n",
    "X = df[[\"kill\",\"assist\",\"death\",\"turret\"]]\n",
    "y = df[\"role\"]\n",
    "\n",
    "X_train, X_test, y_train, y_test = train_test_split(X, y, test_size=0.2, random_state=42)\n",
    "\n",
    "model = LogisticRegression()\n",
    "model.fit(X_train, y_train)\n",
    "\n",
    "y_pred = model.predict(X_test)\n",
    "\n",
    "print(\"Accuracy :\", accuracy_score(y_test, y_pred))"
   ]
  },
  {
   "cell_type": "code",
   "execution_count": 6,
   "id": "d3188583-5eef-456a-a2dc-e6fc1829517c",
   "metadata": {},
   "outputs": [
    {
     "data": {
      "text/plain": [
       "array(['bertahan'], dtype=object)"
      ]
     },
     "execution_count": 6,
     "metadata": {},
     "output_type": "execute_result"
    }
   ],
   "source": [
    "data_baru = pd.DataFrame([[1,12,7,0]], columns=[\"kill\",\"assist\",\"death\",\"turret\"])\n",
    "model.predict(data_baru)\n",
    "\n",
    "# model.predict(data_baru)[0]"
   ]
  },
  {
   "cell_type": "code",
   "execution_count": 11,
   "id": "9dd5fb2f-82ff-4532-8b0a-c4f3a5cad350",
   "metadata": {},
   "outputs": [
    {
     "data": {
      "text/plain": [
       "array([0.05824348, 0.94175652])"
      ]
     },
     "execution_count": 11,
     "metadata": {},
     "output_type": "execute_result"
    }
   ],
   "source": [
    "data_lain = pd.DataFrame([[11,8,2,2]], columns=[\"kill\",\"assist\",\"death\",\"turret\"])\n",
    "# model.predict(data_lain)\n",
    "\n",
    "model.predict(data_lain)[0]\n",
    "model.predict_proba(data_lain)[0]\n",
    "\n",
    "print(model.clas"
   ]
  },
  {
   "cell_type": "code",
   "execution_count": 8,
   "id": "0b8d5af2-1b8d-4f32-810a-de2ffc5b8291",
   "metadata": {},
   "outputs": [
    {
     "data": {
      "text/plain": [
       "['mlbb_model.joblib']"
      ]
     },
     "execution_count": 8,
     "metadata": {},
     "output_type": "execute_result"
    }
   ],
   "source": [
    "import joblib \n",
    "\n",
    "joblib.dump(model, \"mlbb_model.joblib\")"
   ]
  },
  {
   "cell_type": "code",
   "execution_count": 9,
   "id": "11a79521-b6ed-486b-96c1-275719c85d57",
   "metadata": {},
   "outputs": [
    {
     "data": {
      "text/plain": [
       "array(['bertahan'], dtype=object)"
      ]
     },
     "execution_count": 9,
     "metadata": {},
     "output_type": "execute_result"
    }
   ],
   "source": [
    "import joblib\n",
    "import pandas as pd\n",
    "\n",
    "loaded_model = joblib.load(\"mlbb_model.joblib\")\n",
    "data_baru = pd.DataFrame([[3,9,5,1]], columns=[\"kill\",\"assist\",\"death\",\"turret\"])\n",
    "loaded_model.predict(data_baru)"
   ]
  }
 ],
 "metadata": {
  "kernelspec": {
   "display_name": "Python 3 (ipykernel)",
   "language": "python",
   "name": "python3"
  },
  "language_info": {
   "codemirror_mode": {
    "name": "ipython",
    "version": 3
   },
   "file_extension": ".py",
   "mimetype": "text/x-python",
   "name": "python",
   "nbconvert_exporter": "python",
   "pygments_lexer": "ipython3",
   "version": "3.12.4"
  }
 },
 "nbformat": 4,
 "nbformat_minor": 5
}
